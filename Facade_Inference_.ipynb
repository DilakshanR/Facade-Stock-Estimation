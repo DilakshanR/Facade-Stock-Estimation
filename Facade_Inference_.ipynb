{
  "nbformat": 4,
  "nbformat_minor": 0,
  "metadata": {
    "colab": {
      "provenance": [],
      "gpuType": "T4",
      "machine_shape": "hm"
    },
    "kernelspec": {
      "name": "python3",
      "display_name": "Python 3"
    },
    "language_info": {
      "name": "python"
    },
    "accelerator": "GPU"
  },
  "cells": [
    {
      "cell_type": "code",
      "execution_count": null,
      "metadata": {
        "id": "s4Z7Ffoe5KLx",
        "colab": {
          "base_uri": "https://localhost:8080/"
        },
        "outputId": "916b5759-29e1-4a91-bf94-1b866495e241"
      },
      "outputs": [
        {
          "output_type": "stream",
          "name": "stdout",
          "text": [
            "Mounted at /content/drive\n"
          ]
        }
      ],
      "source": [
        "from google.colab import drive\n",
        "drive.mount('/content/drive')"
      ]
    },
    {
      "cell_type": "code",
      "source": [
        "tl_class_dict = {\n",
        " 0: \"Face Brick\",\n",
        " 1: \"Timber\",\n",
        " 2: \"Steel Sheet\",\n",
        " 3: \"Plastered and Painted\",\n",
        " 4: \"Concrete and Glass\",\n",
        " 5: \"Glass\",\n",
        " 6: \"Fiber Cement Sheet\",\n",
        " 7: \"Concrete Panels\",\n",
        " 8: \"Unidentified\"\n",
        "}"
      ],
      "metadata": {
        "id": "7-6jfMV05-bs"
      },
      "execution_count": null,
      "outputs": []
    },
    {
      "cell_type": "code",
      "source": [
        "import torch\n",
        "import torch.nn as nn\n",
        "import torchvision.models as models\n",
        "\n",
        "# Assuming you have the same model architecture as before\n",
        "model_ft = models.resnet50(pretrained=False)\n",
        "num_ftrs = model_ft.fc.in_features\n",
        "model_ft.fc = nn.Linear(num_ftrs, len(tl_class_dict))\n",
        "\n",
        "# Specify the path to your fine-tuned model\n",
        "model_path = 'best Model/finalModel.pt'\n",
        "\n",
        "# Load the state dictionary\n",
        "model_ft.load_state_dict(torch.load(model_path))\n",
        "\n",
        "# Make sure to set the model to evaluation mode\n",
        "model_ft.eval()"
      ],
      "metadata": {
        "id": "EeVCQeNr5THv"
      },
      "execution_count": null,
      "outputs": []
    },
    {
      "cell_type": "code",
      "source": [
        "device = torch.device(\"cuda:0\" if torch.cuda.is_available() else \"cpu\")"
      ],
      "metadata": {
        "id": "hxnYN7_Q6pXG"
      },
      "execution_count": null,
      "outputs": []
    },
    {
      "cell_type": "code",
      "source": [
        "columns = [\n",
        "    \"Face Brick\",\n",
        "    \"Timber\",\n",
        "    \"Steel Sheet\",\n",
        "    \"Plastered and Painted\",\n",
        "    \"Concrete and Glass\",\n",
        "    \"Glass\",\n",
        "    \"Fiber Cement Sheet\",\n",
        "    \"Concrete Panels\",\n",
        "    \"Unidentified\"\n",
        "]"
      ],
      "metadata": {
        "id": "NwgsDIXE63gp"
      },
      "execution_count": null,
      "outputs": []
    },
    {
      "cell_type": "code",
      "source": [
        "import os\n",
        "import pandas as pd\n",
        "import torch\n",
        "from torchvision import transforms\n",
        "from PIL import Image\n",
        "\n",
        "def extract_object_id(img_name):\n",
        "    return img_name.split('_')[0]\n",
        "\n",
        "def create_prediction_column_batched(image_dir, csv_path, model, columns, output_csv_path, batch_size):\n",
        "    df = pd.read_csv(csv_path)\n",
        "\n",
        "    if 'Type' in df.columns:\n",
        "        df = df.rename(columns={'Type': 'Typology'})\n",
        "        print('Renamed')\n",
        "\n",
        "    model.to(device)\n",
        "    model.eval()\n",
        "\n",
        "    transform = transforms.Compose([\n",
        "        transforms.RandomHorizontalFlip(),\n",
        "        transforms.RandomPerspective(distortion_scale=0.5, p=0.5),\n",
        "        transforms.RandomVerticalFlip(),\n",
        "        transforms.RandomRotation(30),\n",
        "        transforms.ToTensor(),\n",
        "        transforms.Normalize([0.485, 0.456, 0.406], [0.229, 0.224, 0.225])\n",
        "    ])\n",
        "\n",
        "    # Create a dictionary to store image paths for each object ID\n",
        "    object_id_to_path = {str(img_id): [] for img_id in df['OBJECTID *']}\n",
        "    # Populate the dictionary with image paths\n",
        "    for img_name in os.listdir(image_dir):\n",
        "        img_id = extract_object_id(img_name)\n",
        "        object_id_to_path[img_id].append(os.path.join(image_dir, img_name))\n",
        "    predictions = []\n",
        "\n",
        "    total_images = len(df)\n",
        "    num_batches = (total_images + batch_size - 1) // batch_size\n",
        "\n",
        "    for batch_num in range(num_batches):\n",
        "        start_idx = batch_num * batch_size\n",
        "        end_idx = min((batch_num + 1) * batch_size, total_images)\n",
        "\n",
        "        batch_df = df.iloc[start_idx:end_idx]\n",
        "\n",
        "        batch_predictions = []\n",
        "\n",
        "        for index, row in batch_df.iterrows():\n",
        "            img_id = str(int(row['OBJECTID *']))\n",
        "            img_paths = object_id_to_path.get(img_id, [])\n",
        "            if img_paths:\n",
        "                img_path = img_paths[0]  # Take the first image path\n",
        "\n",
        "                try:\n",
        "                    img = Image.open(img_path).convert(\"RGB\")\n",
        "                    img = transform(img).unsqueeze(0)\n",
        "                    img = img.to(device)\n",
        "\n",
        "                    with torch.no_grad():\n",
        "                        output = model(img)\n",
        "                        _, pred = torch.max(output, 1)\n",
        "                        predicted_class = columns[pred.item()]\n",
        "                        batch_predictions.append(predicted_class)\n",
        "                except Exception as e:\n",
        "                    # print(f\"Error processing image {img_path}: {e}\")\n",
        "                    batch_predictions.append(\"Error\")\n",
        "            else:\n",
        "                # print(f\"No matching image found for object ID {img_id}\")\n",
        "                batch_predictions.append(\"No Match\")\n",
        "\n",
        "        predictions.extend(batch_predictions)\n",
        "\n",
        "        print(f\"Processed batch {batch_num + 1}/{num_batches}, Images processed: {end_idx}/{total_images}\")\n",
        "\n",
        "    df['prediction'] = predictions\n",
        "    df = df[['OBJECTID *', 'Typology', 'prediction']]\n",
        "    df.to_csv(output_csv_path, index=False)\n"
      ],
      "metadata": {
        "id": "I39x2Qr4Ubn6"
      },
      "execution_count": null,
      "outputs": []
    },
    {
      "cell_type": "code",
      "source": [
        "#Example_use\n",
        "image_dir = \"/content/drive/MyDrive/F0_greaterthan3.5lessthan4/images\"  #your image directory\n",
        "csv_path = \"/content/drive/MyDrive/F0_greaterthan3.5lessthan4/F0_greaterorequal3.5_lessthan4.csv\"  #your dataset CSV file\n",
        "output_csv_path = \"/content/drive/MyDrive/Predictions/F0_Greater3.5_less4.0_prediction.csv\"\n",
        "\n",
        "create_prediction_column_batched(image_dir, csv_path, model_ft, columns, output_csv_path, batch_size=200)"
      ],
      "metadata": {
        "id": "3445mD4KJ1Bh"
      },
      "execution_count": null,
      "outputs": []
    }
  ]
}