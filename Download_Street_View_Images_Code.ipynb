{
  "nbformat": 4,
  "nbformat_minor": 0,
  "metadata": {
    "colab": {
      "provenance": [],
      "gpuType": "T4"
    },
    "kernelspec": {
      "name": "python3",
      "display_name": "Python 3"
    },
    "language_info": {
      "name": "python"
    },
    "accelerator": "GPU"
  },
  "cells": [
    {
      "cell_type": "markdown",
      "source": [
        "Import Google map Library"
      ],
      "metadata": {
        "id": "xPyhCIxHhcbH"
      }
    },
    {
      "cell_type": "code",
      "source": [
        "!pip install google_streetview\n",
        "!pip install googlemaps"
      ],
      "metadata": {
        "id": "hNwt3RcUhgUG",
        "collapsed": true
      },
      "execution_count": null,
      "outputs": []
    },
    {
      "cell_type": "code",
      "source": [
        "from google.colab import drive\n",
        "drive.mount('/content/drive')"
      ],
      "metadata": {
        "id": "DV9U5U4dsuKR",
        "collapsed": true
      },
      "execution_count": null,
      "outputs": []
    },
    {
      "cell_type": "markdown",
      "source": [
        "Import Python Libraries"
      ],
      "metadata": {
        "id": "1s09LteNhhzn"
      }
    },
    {
      "cell_type": "code",
      "source": [
        "import google_streetview.api\n",
        "import googlemaps\n",
        "\n",
        "\n",
        "import requests\n",
        "import os\n",
        "\n",
        "import pandas as pd\n",
        "from pandas import DataFrame\n",
        "\n",
        "import matplotlib.pyplot as plt #For creating histograms\n",
        "\n",
        "import seaborn\n",
        "\n",
        "import cv2\n",
        "import numpy as np"
      ],
      "metadata": {
        "id": "8ZY8CC6Ghj3c"
      },
      "execution_count": null,
      "outputs": []
    },
    {
      "cell_type": "markdown",
      "source": [
        "Define street view image funtion to download images"
      ],
      "metadata": {
        "id": "iVetVhuRhllM"
      }
    },
    {
      "cell_type": "code",
      "source": [
        "def StreetViewImage(obj_id, Lat,Long,OutputDir):\n",
        "\n",
        "    #Get location\n",
        "\n",
        "    Location = str(Lat) + \",\" + str(Long)\n",
        "\n",
        "    #Get address\n",
        "\n",
        "    API_KEY = ''\n",
        "\n",
        "    gm = googlemaps.Client(key=API_KEY)\n",
        "\n",
        "    Address = gm.geocode(Location)[0][\"formatted_address\"]\n",
        "\n",
        "    Address = Address.replace('  ', ' ')\n",
        "    Address = Address.replace(\",\",\"\")\n",
        "\n",
        "    # Define parameters for street view api\n",
        "    params = [{\n",
        "        'size': '640x640', # max 640x640 pixels\n",
        "        'location': Address,\n",
        "        'pitch': 15,\n",
        "        'FOV': 15,\n",
        "        'key': API_KEY\n",
        "    }]\n",
        "\n",
        "    # Create a results object\n",
        "    results = google_streetview.api.results(params)\n",
        "\n",
        "\n",
        "    #Create specific sub-folder within directory\n",
        "\n",
        "    # SubFolder = OutputDir + \"/\" + \"_\" + Address\n",
        "    SubFolder = OutputDir\n",
        "    image_folder = SubFolder + '/images/'\n",
        "    meta_folder = SubFolder + '/metadata/'\n",
        "    os.makedirs(image_folder, exist_ok=True)\n",
        "    os.makedirs(meta_folder, exist_ok=True)\n",
        "    if os.path.exists(SubFolder):\n",
        "\n",
        "        # Define rename output convetion for Streetview images and metadata\n",
        "\n",
        "        Img_Orig = SubFolder + \"/\" + \"gsv_0.jpg\"\n",
        "        Meta_Orig = SubFolder + \"/\" + \"metadata.json\"\n",
        "\n",
        "        Img_Updated = image_folder + f\"{obj_id}_{Location}_{Address}\" + \".jpg\"\n",
        "        Meta_Updated = meta_folder + f\"{obj_id}_{Location}_{Address}\" + \".json\"\n",
        "\n",
        "        # Download images to directory 'downloads'\n",
        "        try:\n",
        "            results.download_links(SubFolder)\n",
        "            os.rename(Img_Orig, Img_Updated)\n",
        "            os.rename(Meta_Orig, Meta_Updated)\n",
        "\n",
        "            # Crop image\n",
        "            # Get image name\n",
        "            img = cv2.imread(Img_Updated)\n",
        "            cv2.imshow(\"original\", img)\n",
        "            # Cropping an image\n",
        "            cropped_image_centre = img[160:480,215:425]\n",
        "            # Display cropped image\n",
        "            cv2.imshow(\"cropped\", cropped_image_centre)\n",
        "            # Save the cropped image\n",
        "            cv2.imwrite(image_folder + f\"{obj_id}_{Location}_{Address}\" + \"_centre.jpg\", cropped_image_centre)\n",
        "        except:\n",
        "            pass\n",
        "    else:\n",
        "        print(\"File already exists: \" + Address)"
      ],
      "metadata": {
        "id": "dgTJdThhhoCl"
      },
      "execution_count": null,
      "outputs": []
    },
    {
      "cell_type": "markdown",
      "source": [
        "Define and read input file"
      ],
      "metadata": {
        "id": "KJMs_C2hh-F2"
      }
    },
    {
      "cell_type": "code",
      "source": [
        "input_file = r'/content/F4_Surface.csv'\n",
        "\n",
        "df = pd.read_csv(input_file)\n",
        "\n",
        "df.head(3)"
      ],
      "metadata": {
        "id": "94bjF5xUiAIZ"
      },
      "execution_count": null,
      "outputs": []
    },
    {
      "cell_type": "markdown",
      "source": [
        "Define output location"
      ],
      "metadata": {
        "id": "w14CRZAHiCvC"
      }
    },
    {
      "cell_type": "code",
      "source": [
        "output_dir = r\"/content/drive/MyDrive/F4_Surface\""
      ],
      "metadata": {
        "id": "Fx2VzIDsiFgx"
      },
      "execution_count": null,
      "outputs": []
    },
    {
      "cell_type": "markdown",
      "source": [
        "Extract images"
      ],
      "metadata": {
        "id": "Q-FJij7miHM9"
      }
    },
    {
      "cell_type": "code",
      "source": [
        "for ind in df.index:\n",
        "\n",
        "#   Get parameters\n",
        "    Lat,Long,output_dir = df['CNTRD_LAT'][ind], df['CNTRD_LONG'][ind],output_dir\n",
        "    obj_id = df['OBJECTID *'][ind]\n",
        "    print(obj_id, Lat, Long, output_dir)\n",
        "\n",
        "\n",
        "#   Extract function\n",
        "    StreetViewImage(obj_id, Lat,Long,output_dir)"
      ],
      "metadata": {
        "id": "9Q5MLciQiJMB"
      },
      "execution_count": null,
      "outputs": []
    },
    {
      "cell_type": "markdown",
      "source": [
        "End"
      ],
      "metadata": {
        "id": "FBVCXa3GiLSV"
      }
    }
  ]
}